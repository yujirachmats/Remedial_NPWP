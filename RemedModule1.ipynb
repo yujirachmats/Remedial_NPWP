{
 "cells": [
  {
   "cell_type": "code",
   "execution_count": 5,
   "metadata": {},
   "outputs": [
    {
     "data": {
      "text/plain": [
       "'Output: Kode seri NPWP tidak valid!'"
      ]
     },
     "execution_count": 5,
     "metadata": {},
     "output_type": "execute_result"
    }
   ],
   "source": [
    "def cekNPWP(x):\n",
    "    hrf = '0123456789-.'\n",
    "    status = True\n",
    "    \n",
    "    for i in x:\n",
    "        if i not in hrf:\n",
    "            status = False\n",
    "            \n",
    "    if '-' not in x and '.' not in x:\n",
    "        status = False\n",
    "    \n",
    "    if status == False:\n",
    "        return 'Output: Kode seri NPWP tidak valid!'\n",
    "    \n",
    "    iden = x.split('.')[0]\n",
    "    regis = x.split('.')[1] + '.' + x.split('.')[2]\n",
    "    security = x.split('.')[3].split('-')[0]\n",
    "    KPP = x.split('.')[3].split('-')[-1]\n",
    "    statuspjk = x.split('.')[-1]\n",
    "    syarat1 = ['01','02','03','04','06','05','07','08','09']\n",
    "            \n",
    "    if iden not in syarat1:\n",
    "        status = False\n",
    "           \n",
    "    if status:\n",
    "        print('Output: Kode seri NPWP valid!')\n",
    "        \n",
    "        if iden in syarat1[:3]:\n",
    "            print(f'Identitas Wajib Pajak: {iden} Wajib Pajak Badan')\n",
    "        elif iden in syarat1[3:5]:\n",
    "            print(f'Identitas Wajib Pajak: {iden} Wajib Pajak Pengusaha')\n",
    "        elif iden in syarat1[5]:\n",
    "            print(f'Identitas Wajib Pajak: {iden} Wajib Pajak Karyawan')\n",
    "        elif iden in syarat1[6:9]:\n",
    "            print(f'Identitas Wajib Pajak: {iden} Wajib Pajak Orang Pribadi')\n",
    "                \n",
    "        print(f'Nomor Registrasi: {regis}')            \n",
    "        print(f'Alat pengaman: {security}')\n",
    "        print(f'Kode KPP: {KPP}')      \n",
    "        print(f'Status Wajib Pajak: {statuspjk}')      \n",
    "    else:\n",
    "        print('Output: Kode seri NPWP tidak valid!')\n",
    "\n",
    "# cekNPWP('091234560123123')\n",
    "# cekNPWP('99.999.999.9-999.999')\n",
    "# cekNPWP('09.123.456.A-123.123')\n",
    "# cekNPWP('07.123.456.0-212.191')"
   ]
  },
  {
   "cell_type": "code",
   "execution_count": null,
   "metadata": {},
   "outputs": [],
   "source": []
  }
 ],
 "metadata": {
  "kernelspec": {
   "display_name": "Python 3.8.1 64-bit",
   "language": "python",
   "name": "python38164bit2613f6059fad4cdfa4cbc2132cfca99d"
  },
  "language_info": {
   "codemirror_mode": {
    "name": "ipython",
    "version": 3
   },
   "file_extension": ".py",
   "mimetype": "text/x-python",
   "name": "python",
   "nbconvert_exporter": "python",
   "pygments_lexer": "ipython3",
   "version": "3.8.1"
  }
 },
 "nbformat": 4,
 "nbformat_minor": 4
}
